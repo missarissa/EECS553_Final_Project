{
 "cells": [
  {
   "cell_type": "code",
   "execution_count": null,
   "id": "a470052f-3a48-4804-a214-93dee8baa150",
   "metadata": {},
   "outputs": [],
   "source": [
    "# Load the full DataFrame\n",
    "with open('preprocessed_data.pkl', 'rb') as f:\n",
    "    df = pickle.load(f)"
   ]
  },
  {
   "cell_type": "code",
   "execution_count": 34,
   "id": "36b11290-44f6-4b33-ab76-ca714239560f",
   "metadata": {},
   "outputs": [],
   "source": [
    "import pandas as pd\n",
    "import torch\n",
    "import numpy as np\n",
    "from tensorly.decomposition import parafac\n",
    "from tensorly.tenalg import mode_dot\n",
    "import tensorly as tl\n",
    "\n",
    "# Make sure TensorLy uses PyTorch backend\n",
    "tl.set_backend('pytorch')\n",
    "\n",
    "# Your tensor decomposition function\n",
    "def tensor_decomp(X, rank=10):\n",
    "    factors = parafac(X, rank=rank)\n",
    "    _, _, C = factors.factors  # Get third factor matrix\n",
    "    P = torch.linalg.pinv(C)   # Compute pseudo-inverse of C\n",
    "    X_reduced = mode_dot(X, P, mode=2)  # Project X along mode-2\n",
    "    return X_reduced\n",
    "\n",
    "# Apply the function to each spectrogram in your DataFrame\n",
    "reduced_spectrograms = []\n",
    "\n",
    "for i, row in df.iterrows():\n",
    "    spectrogram = row['spectrogram']\n",
    "    \n",
    "    # Convert spectrogram to torch tensor\n",
    "    tensor = torch.tensor(spectrogram, dtype=torch.float32)\n",
    "    \n",
    "    # Decompose and reduce\n",
    "    try:\n",
    "        reduced = tensor_decomp(tensor, rank=10)\n",
    "        reduced_spectrograms.append(reduced.numpy())  # convert back to NumPy for storing\n",
    "    except Exception as e:\n",
    "        print(f\"Error on index {i}: {e}\")\n",
    "        reduced_spectrograms.append(None)  # Handle failure case\n",
    "\n",
    "# Add reduced spectrograms to DataFrame\n",
    "df['reduced_spectrogram'] = reduced_spectrograms"
   ]
  },
  {
   "cell_type": "code",
   "execution_count": 37,
   "id": "9b78adfd-eba3-4495-b811-a802e10ddf8a",
   "metadata": {},
   "outputs": [],
   "source": [
    "df.to_pickle('decomposed_data.pkl')"
   ]
  },
  {
   "cell_type": "code",
   "execution_count": 41,
   "id": "02e56413-87f4-46ba-a3ed-701f03585f1e",
   "metadata": {},
   "outputs": [
    {
     "data": {
      "text/plain": [
       "(119, 65, 28)"
      ]
     },
     "execution_count": 41,
     "metadata": {},
     "output_type": "execute_result"
    }
   ],
   "source": [
    "df['spectrogram'][0].shape"
   ]
  },
  {
   "cell_type": "code",
   "execution_count": 43,
   "id": "c01dd607-7a5c-4127-83f7-ab863d9a3877",
   "metadata": {},
   "outputs": [
    {
     "data": {
      "text/plain": [
       "(119, 65, 10)"
      ]
     },
     "execution_count": 43,
     "metadata": {},
     "output_type": "execute_result"
    }
   ],
   "source": [
    "df['reduced_spectrogram'][0].shape"
   ]
  },
  {
   "cell_type": "code",
   "execution_count": null,
   "id": "ae65d43a-de18-42ad-b621-9db6c1153ccd",
   "metadata": {},
   "outputs": [],
   "source": []
  }
 ],
 "metadata": {
  "kernelspec": {
   "display_name": "Python 3 (ipykernel)",
   "language": "python",
   "name": "python3"
  },
  "language_info": {
   "codemirror_mode": {
    "name": "ipython",
    "version": 3
   },
   "file_extension": ".py",
   "mimetype": "text/x-python",
   "name": "python",
   "nbconvert_exporter": "python",
   "pygments_lexer": "ipython3",
   "version": "3.12.2"
  }
 },
 "nbformat": 4,
 "nbformat_minor": 5
}
