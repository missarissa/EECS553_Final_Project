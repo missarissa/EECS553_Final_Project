{
 "cells": [
  {
   "cell_type": "code",
   "execution_count": 4,
   "id": "356a0a27-4c79-4d94-a17a-4408c3f5eaea",
   "metadata": {},
   "outputs": [
    {
     "name": "stdout",
     "output_type": "stream",
     "text": [
      "Found EDF files: ['edf_files/chb21_33.edf', 'edf_files/chb21_27.edf', 'edf_files/chb21_26.edf', 'edf_files/chb21_32.edf', 'edf_files/chb21_18.edf', 'edf_files/chb21_24.edf', 'edf_files/chb21_30.edf', 'edf_files/chb21_31.edf', 'edf_files/chb21_25.edf', 'edf_files/chb21_19.edf', 'edf_files/chb21_21.edf', 'edf_files/chb21_09.edf', 'edf_files/chb21_08.edf', 'edf_files/chb21_20.edf', 'edf_files/chb21_22.edf', 'edf_files/chb21_23.edf', 'edf_files/chb21_12.edf', 'edf_files/chb21_06.edf', 'edf_files/chb21_07.edf', 'edf_files/chb21_13.edf', 'edf_files/chb21_05.edf', 'edf_files/chb21_11.edf', 'edf_files/chb21_10.edf', 'edf_files/chb21_04.edf', 'edf_files/chb21_14.edf', 'edf_files/chb21_28.edf', 'edf_files/chb21_29.edf', 'edf_files/chb21_15.edf', 'edf_files/chb21_01.edf', 'edf_files/chb21_17.edf', 'edf_files/chb21_03.edf', 'edf_files/chb21_02.edf', 'edf_files/chb21_16.edf']\n",
      "Extracting EDF parameters from /Users/marissafluharty/Library/CloudStorage/OneDrive-Umich/Univeristy of Michigan Graduate 2024-2026/Winter 2025/EECS 553/Final Project/edf_files/chb21_01.edf...\n",
      "EDF file detected\n",
      "Setting channel info structure...\n",
      "Creating raw.info structure...\n",
      "Reading 0 ... 921599  =      0.000 ...  3599.996 secs...\n",
      "Extracting EDF parameters from /Users/marissafluharty/Library/CloudStorage/OneDrive-Umich/Univeristy of Michigan Graduate 2024-2026/Winter 2025/EECS 553/Final Project/edf_files/chb21_02.edf...\n",
      "EDF file detected\n",
      "Setting channel info structure...\n",
      "Creating raw.info structure...\n",
      "Reading 0 ... 921599  =      0.000 ...  3599.996 secs...\n"
     ]
    },
    {
     "name": "stderr",
     "output_type": "stream",
     "text": [
      "/var/folders/_g/ppwl61ys0td4mk4md686c0sw0000gn/T/ipykernel_4138/701418470.py:11: RuntimeWarning: Channel names are not unique, found duplicates for: {'-', 'T8-P8'}. Applying running numbers for duplicates.\n",
      "  raw_list = [mne.io.read_raw_edf(f, preload=True) for f in sorted(edf_files)]\n",
      "/var/folders/_g/ppwl61ys0td4mk4md686c0sw0000gn/T/ipykernel_4138/701418470.py:11: RuntimeWarning: Scaling factor is not defined in following channels:\n",
      "--0, --1, --2, --3, --4\n",
      "  raw_list = [mne.io.read_raw_edf(f, preload=True) for f in sorted(edf_files)]\n",
      "/var/folders/_g/ppwl61ys0td4mk4md686c0sw0000gn/T/ipykernel_4138/701418470.py:11: RuntimeWarning: Channel names are not unique, found duplicates for: {'-', 'T8-P8'}. Applying running numbers for duplicates.\n",
      "  raw_list = [mne.io.read_raw_edf(f, preload=True) for f in sorted(edf_files)]\n",
      "/var/folders/_g/ppwl61ys0td4mk4md686c0sw0000gn/T/ipykernel_4138/701418470.py:11: RuntimeWarning: Scaling factor is not defined in following channels:\n",
      "--0, --1, --2, --3, --4\n",
      "  raw_list = [mne.io.read_raw_edf(f, preload=True) for f in sorted(edf_files)]\n"
     ]
    },
    {
     "name": "stdout",
     "output_type": "stream",
     "text": [
      "Extracting EDF parameters from /Users/marissafluharty/Library/CloudStorage/OneDrive-Umich/Univeristy of Michigan Graduate 2024-2026/Winter 2025/EECS 553/Final Project/edf_files/chb21_03.edf...\n",
      "EDF file detected\n",
      "Setting channel info structure...\n",
      "Creating raw.info structure...\n",
      "Reading 0 ... 921599  =      0.000 ...  3599.996 secs...\n",
      "Extracting EDF parameters from /Users/marissafluharty/Library/CloudStorage/OneDrive-Umich/Univeristy of Michigan Graduate 2024-2026/Winter 2025/EECS 553/Final Project/edf_files/chb21_04.edf...\n",
      "EDF file detected\n",
      "Setting channel info structure...\n",
      "Creating raw.info structure...\n",
      "Reading 0 ... 921599  =      0.000 ...  3599.996 secs...\n",
      "Extracting EDF parameters from /Users/marissafluharty/Library/CloudStorage/OneDrive-Umich/Univeristy of Michigan Graduate 2024-2026/Winter 2025/EECS 553/Final Project/edf_files/chb21_05.edf...\n",
      "EDF file detected\n",
      "Setting channel info structure...\n",
      "Creating raw.info structure...\n",
      "Reading 0 ... 921599  =      0.000 ...  3599.996 secs...\n",
      "Extracting EDF parameters from /Users/marissafluharty/Library/CloudStorage/OneDrive-Umich/Univeristy of Michigan Graduate 2024-2026/Winter 2025/EECS 553/Final Project/edf_files/chb21_06.edf...\n",
      "EDF file detected\n",
      "Setting channel info structure...\n",
      "Creating raw.info structure...\n",
      "Reading 0 ... 921599  =      0.000 ...  3599.996 secs...\n"
     ]
    },
    {
     "name": "stderr",
     "output_type": "stream",
     "text": [
      "/var/folders/_g/ppwl61ys0td4mk4md686c0sw0000gn/T/ipykernel_4138/701418470.py:11: RuntimeWarning: Channel names are not unique, found duplicates for: {'-', 'T8-P8'}. Applying running numbers for duplicates.\n",
      "  raw_list = [mne.io.read_raw_edf(f, preload=True) for f in sorted(edf_files)]\n",
      "/var/folders/_g/ppwl61ys0td4mk4md686c0sw0000gn/T/ipykernel_4138/701418470.py:11: RuntimeWarning: Scaling factor is not defined in following channels:\n",
      "--0, --1, --2, --3, --4\n",
      "  raw_list = [mne.io.read_raw_edf(f, preload=True) for f in sorted(edf_files)]\n",
      "/var/folders/_g/ppwl61ys0td4mk4md686c0sw0000gn/T/ipykernel_4138/701418470.py:11: RuntimeWarning: Channel names are not unique, found duplicates for: {'-', 'T8-P8'}. Applying running numbers for duplicates.\n",
      "  raw_list = [mne.io.read_raw_edf(f, preload=True) for f in sorted(edf_files)]\n",
      "/var/folders/_g/ppwl61ys0td4mk4md686c0sw0000gn/T/ipykernel_4138/701418470.py:11: RuntimeWarning: Scaling factor is not defined in following channels:\n",
      "--0, --1, --2, --3, --4\n",
      "  raw_list = [mne.io.read_raw_edf(f, preload=True) for f in sorted(edf_files)]\n",
      "/var/folders/_g/ppwl61ys0td4mk4md686c0sw0000gn/T/ipykernel_4138/701418470.py:11: RuntimeWarning: Channel names are not unique, found duplicates for: {'-', 'T8-P8'}. Applying running numbers for duplicates.\n",
      "  raw_list = [mne.io.read_raw_edf(f, preload=True) for f in sorted(edf_files)]\n",
      "/var/folders/_g/ppwl61ys0td4mk4md686c0sw0000gn/T/ipykernel_4138/701418470.py:11: RuntimeWarning: Scaling factor is not defined in following channels:\n",
      "--0, --1, --2, --3, --4\n",
      "  raw_list = [mne.io.read_raw_edf(f, preload=True) for f in sorted(edf_files)]\n",
      "/var/folders/_g/ppwl61ys0td4mk4md686c0sw0000gn/T/ipykernel_4138/701418470.py:11: RuntimeWarning: Channel names are not unique, found duplicates for: {'-', 'T8-P8'}. Applying running numbers for duplicates.\n",
      "  raw_list = [mne.io.read_raw_edf(f, preload=True) for f in sorted(edf_files)]\n",
      "/var/folders/_g/ppwl61ys0td4mk4md686c0sw0000gn/T/ipykernel_4138/701418470.py:11: RuntimeWarning: Scaling factor is not defined in following channels:\n",
      "--0, --1, --2, --3, --4\n",
      "  raw_list = [mne.io.read_raw_edf(f, preload=True) for f in sorted(edf_files)]\n"
     ]
    },
    {
     "name": "stdout",
     "output_type": "stream",
     "text": [
      "Extracting EDF parameters from /Users/marissafluharty/Library/CloudStorage/OneDrive-Umich/Univeristy of Michigan Graduate 2024-2026/Winter 2025/EECS 553/Final Project/edf_files/chb21_07.edf...\n",
      "EDF file detected\n",
      "Setting channel info structure...\n",
      "Creating raw.info structure...\n",
      "Reading 0 ... 921599  =      0.000 ...  3599.996 secs...\n",
      "Extracting EDF parameters from /Users/marissafluharty/Library/CloudStorage/OneDrive-Umich/Univeristy of Michigan Graduate 2024-2026/Winter 2025/EECS 553/Final Project/edf_files/chb21_08.edf...\n",
      "EDF file detected\n",
      "Setting channel info structure...\n",
      "Creating raw.info structure...\n",
      "Reading 0 ... 921599  =      0.000 ...  3599.996 secs...\n",
      "Extracting EDF parameters from /Users/marissafluharty/Library/CloudStorage/OneDrive-Umich/Univeristy of Michigan Graduate 2024-2026/Winter 2025/EECS 553/Final Project/edf_files/chb21_09.edf...\n",
      "EDF file detected\n",
      "Setting channel info structure...\n",
      "Creating raw.info structure...\n",
      "Reading 0 ... 921599  =      0.000 ...  3599.996 secs...\n"
     ]
    },
    {
     "name": "stderr",
     "output_type": "stream",
     "text": [
      "/var/folders/_g/ppwl61ys0td4mk4md686c0sw0000gn/T/ipykernel_4138/701418470.py:11: RuntimeWarning: Channel names are not unique, found duplicates for: {'-', 'T8-P8'}. Applying running numbers for duplicates.\n",
      "  raw_list = [mne.io.read_raw_edf(f, preload=True) for f in sorted(edf_files)]\n",
      "/var/folders/_g/ppwl61ys0td4mk4md686c0sw0000gn/T/ipykernel_4138/701418470.py:11: RuntimeWarning: Scaling factor is not defined in following channels:\n",
      "--0, --1, --2, --3, --4\n",
      "  raw_list = [mne.io.read_raw_edf(f, preload=True) for f in sorted(edf_files)]\n",
      "/var/folders/_g/ppwl61ys0td4mk4md686c0sw0000gn/T/ipykernel_4138/701418470.py:11: RuntimeWarning: Channel names are not unique, found duplicates for: {'-', 'T8-P8'}. Applying running numbers for duplicates.\n",
      "  raw_list = [mne.io.read_raw_edf(f, preload=True) for f in sorted(edf_files)]\n",
      "/var/folders/_g/ppwl61ys0td4mk4md686c0sw0000gn/T/ipykernel_4138/701418470.py:11: RuntimeWarning: Scaling factor is not defined in following channels:\n",
      "--0, --1, --2, --3, --4\n",
      "  raw_list = [mne.io.read_raw_edf(f, preload=True) for f in sorted(edf_files)]\n",
      "/var/folders/_g/ppwl61ys0td4mk4md686c0sw0000gn/T/ipykernel_4138/701418470.py:11: RuntimeWarning: Channel names are not unique, found duplicates for: {'-', 'T8-P8'}. Applying running numbers for duplicates.\n",
      "  raw_list = [mne.io.read_raw_edf(f, preload=True) for f in sorted(edf_files)]\n",
      "/var/folders/_g/ppwl61ys0td4mk4md686c0sw0000gn/T/ipykernel_4138/701418470.py:11: RuntimeWarning: Scaling factor is not defined in following channels:\n",
      "--0, --1, --2, --3, --4\n",
      "  raw_list = [mne.io.read_raw_edf(f, preload=True) for f in sorted(edf_files)]\n"
     ]
    },
    {
     "name": "stdout",
     "output_type": "stream",
     "text": [
      "Extracting EDF parameters from /Users/marissafluharty/Library/CloudStorage/OneDrive-Umich/Univeristy of Michigan Graduate 2024-2026/Winter 2025/EECS 553/Final Project/edf_files/chb21_10.edf...\n",
      "EDF file detected\n",
      "Setting channel info structure...\n",
      "Creating raw.info structure...\n",
      "Reading 0 ... 921599  =      0.000 ...  3599.996 secs...\n",
      "Extracting EDF parameters from /Users/marissafluharty/Library/CloudStorage/OneDrive-Umich/Univeristy of Michigan Graduate 2024-2026/Winter 2025/EECS 553/Final Project/edf_files/chb21_11.edf...\n",
      "EDF file detected\n",
      "Setting channel info structure...\n",
      "Creating raw.info structure...\n",
      "Reading 0 ... 921599  =      0.000 ...  3599.996 secs...\n",
      "Extracting EDF parameters from /Users/marissafluharty/Library/CloudStorage/OneDrive-Umich/Univeristy of Michigan Graduate 2024-2026/Winter 2025/EECS 553/Final Project/edf_files/chb21_12.edf...\n",
      "EDF file detected\n",
      "Setting channel info structure...\n",
      "Creating raw.info structure...\n",
      "Reading 0 ... 921599  =      0.000 ...  3599.996 secs...\n"
     ]
    },
    {
     "name": "stderr",
     "output_type": "stream",
     "text": [
      "/var/folders/_g/ppwl61ys0td4mk4md686c0sw0000gn/T/ipykernel_4138/701418470.py:11: RuntimeWarning: Channel names are not unique, found duplicates for: {'-', 'T8-P8'}. Applying running numbers for duplicates.\n",
      "  raw_list = [mne.io.read_raw_edf(f, preload=True) for f in sorted(edf_files)]\n",
      "/var/folders/_g/ppwl61ys0td4mk4md686c0sw0000gn/T/ipykernel_4138/701418470.py:11: RuntimeWarning: Scaling factor is not defined in following channels:\n",
      "--0, --1, --2, --3, --4\n",
      "  raw_list = [mne.io.read_raw_edf(f, preload=True) for f in sorted(edf_files)]\n",
      "/var/folders/_g/ppwl61ys0td4mk4md686c0sw0000gn/T/ipykernel_4138/701418470.py:11: RuntimeWarning: Channel names are not unique, found duplicates for: {'-', 'T8-P8'}. Applying running numbers for duplicates.\n",
      "  raw_list = [mne.io.read_raw_edf(f, preload=True) for f in sorted(edf_files)]\n",
      "/var/folders/_g/ppwl61ys0td4mk4md686c0sw0000gn/T/ipykernel_4138/701418470.py:11: RuntimeWarning: Scaling factor is not defined in following channels:\n",
      "--0, --1, --2, --3, --4\n",
      "  raw_list = [mne.io.read_raw_edf(f, preload=True) for f in sorted(edf_files)]\n",
      "/var/folders/_g/ppwl61ys0td4mk4md686c0sw0000gn/T/ipykernel_4138/701418470.py:11: RuntimeWarning: Channel names are not unique, found duplicates for: {'-', 'T8-P8'}. Applying running numbers for duplicates.\n",
      "  raw_list = [mne.io.read_raw_edf(f, preload=True) for f in sorted(edf_files)]\n",
      "/var/folders/_g/ppwl61ys0td4mk4md686c0sw0000gn/T/ipykernel_4138/701418470.py:11: RuntimeWarning: Scaling factor is not defined in following channels:\n",
      "--0, --1, --2, --3, --4\n",
      "  raw_list = [mne.io.read_raw_edf(f, preload=True) for f in sorted(edf_files)]\n"
     ]
    },
    {
     "name": "stdout",
     "output_type": "stream",
     "text": [
      "Extracting EDF parameters from /Users/marissafluharty/Library/CloudStorage/OneDrive-Umich/Univeristy of Michigan Graduate 2024-2026/Winter 2025/EECS 553/Final Project/edf_files/chb21_13.edf...\n",
      "EDF file detected\n",
      "Setting channel info structure...\n",
      "Creating raw.info structure...\n",
      "Reading 0 ... 921599  =      0.000 ...  3599.996 secs...\n",
      "Extracting EDF parameters from /Users/marissafluharty/Library/CloudStorage/OneDrive-Umich/Univeristy of Michigan Graduate 2024-2026/Winter 2025/EECS 553/Final Project/edf_files/chb21_14.edf...\n",
      "EDF file detected\n",
      "Setting channel info structure...\n",
      "Creating raw.info structure...\n",
      "Reading 0 ... 921599  =      0.000 ...  3599.996 secs...\n",
      "Extracting EDF parameters from /Users/marissafluharty/Library/CloudStorage/OneDrive-Umich/Univeristy of Michigan Graduate 2024-2026/Winter 2025/EECS 553/Final Project/edf_files/chb21_15.edf...\n",
      "EDF file detected\n",
      "Setting channel info structure...\n",
      "Creating raw.info structure...\n",
      "Reading 0 ... 921599  =      0.000 ...  3599.996 secs...\n"
     ]
    },
    {
     "name": "stderr",
     "output_type": "stream",
     "text": [
      "/var/folders/_g/ppwl61ys0td4mk4md686c0sw0000gn/T/ipykernel_4138/701418470.py:11: RuntimeWarning: Channel names are not unique, found duplicates for: {'-', 'T8-P8'}. Applying running numbers for duplicates.\n",
      "  raw_list = [mne.io.read_raw_edf(f, preload=True) for f in sorted(edf_files)]\n",
      "/var/folders/_g/ppwl61ys0td4mk4md686c0sw0000gn/T/ipykernel_4138/701418470.py:11: RuntimeWarning: Scaling factor is not defined in following channels:\n",
      "--0, --1, --2, --3, --4\n",
      "  raw_list = [mne.io.read_raw_edf(f, preload=True) for f in sorted(edf_files)]\n",
      "/var/folders/_g/ppwl61ys0td4mk4md686c0sw0000gn/T/ipykernel_4138/701418470.py:11: RuntimeWarning: Channel names are not unique, found duplicates for: {'-', 'T8-P8'}. Applying running numbers for duplicates.\n",
      "  raw_list = [mne.io.read_raw_edf(f, preload=True) for f in sorted(edf_files)]\n",
      "/var/folders/_g/ppwl61ys0td4mk4md686c0sw0000gn/T/ipykernel_4138/701418470.py:11: RuntimeWarning: Scaling factor is not defined in following channels:\n",
      "--0, --1, --2, --3, --4\n",
      "  raw_list = [mne.io.read_raw_edf(f, preload=True) for f in sorted(edf_files)]\n",
      "/var/folders/_g/ppwl61ys0td4mk4md686c0sw0000gn/T/ipykernel_4138/701418470.py:11: RuntimeWarning: Channel names are not unique, found duplicates for: {'-', 'T8-P8'}. Applying running numbers for duplicates.\n",
      "  raw_list = [mne.io.read_raw_edf(f, preload=True) for f in sorted(edf_files)]\n",
      "/var/folders/_g/ppwl61ys0td4mk4md686c0sw0000gn/T/ipykernel_4138/701418470.py:11: RuntimeWarning: Scaling factor is not defined in following channels:\n",
      "--0, --1, --2, --3, --4\n",
      "  raw_list = [mne.io.read_raw_edf(f, preload=True) for f in sorted(edf_files)]\n"
     ]
    },
    {
     "name": "stdout",
     "output_type": "stream",
     "text": [
      "Extracting EDF parameters from /Users/marissafluharty/Library/CloudStorage/OneDrive-Umich/Univeristy of Michigan Graduate 2024-2026/Winter 2025/EECS 553/Final Project/edf_files/chb21_16.edf...\n",
      "EDF file detected\n",
      "Setting channel info structure...\n",
      "Creating raw.info structure...\n",
      "Reading 0 ... 921343  =      0.000 ...  3598.996 secs...\n",
      "Extracting EDF parameters from /Users/marissafluharty/Library/CloudStorage/OneDrive-Umich/Univeristy of Michigan Graduate 2024-2026/Winter 2025/EECS 553/Final Project/edf_files/chb21_17.edf...\n",
      "EDF file detected\n",
      "Setting channel info structure...\n",
      "Creating raw.info structure...\n",
      "Reading 0 ... 921599  =      0.000 ...  3599.996 secs...\n",
      "Extracting EDF parameters from /Users/marissafluharty/Library/CloudStorage/OneDrive-Umich/Univeristy of Michigan Graduate 2024-2026/Winter 2025/EECS 553/Final Project/edf_files/chb21_18.edf...\n",
      "EDF file detected\n",
      "Setting channel info structure...\n",
      "Creating raw.info structure...\n",
      "Reading 0 ... 921599  =      0.000 ...  3599.996 secs...\n"
     ]
    },
    {
     "name": "stderr",
     "output_type": "stream",
     "text": [
      "/var/folders/_g/ppwl61ys0td4mk4md686c0sw0000gn/T/ipykernel_4138/701418470.py:11: RuntimeWarning: Channel names are not unique, found duplicates for: {'-', 'T8-P8'}. Applying running numbers for duplicates.\n",
      "  raw_list = [mne.io.read_raw_edf(f, preload=True) for f in sorted(edf_files)]\n",
      "/var/folders/_g/ppwl61ys0td4mk4md686c0sw0000gn/T/ipykernel_4138/701418470.py:11: RuntimeWarning: Scaling factor is not defined in following channels:\n",
      "--0, --1, --2, --3, --4\n",
      "  raw_list = [mne.io.read_raw_edf(f, preload=True) for f in sorted(edf_files)]\n",
      "/var/folders/_g/ppwl61ys0td4mk4md686c0sw0000gn/T/ipykernel_4138/701418470.py:11: RuntimeWarning: Channel names are not unique, found duplicates for: {'-', 'T8-P8'}. Applying running numbers for duplicates.\n",
      "  raw_list = [mne.io.read_raw_edf(f, preload=True) for f in sorted(edf_files)]\n",
      "/var/folders/_g/ppwl61ys0td4mk4md686c0sw0000gn/T/ipykernel_4138/701418470.py:11: RuntimeWarning: Scaling factor is not defined in following channels:\n",
      "--0, --1, --2, --3, --4\n",
      "  raw_list = [mne.io.read_raw_edf(f, preload=True) for f in sorted(edf_files)]\n",
      "/var/folders/_g/ppwl61ys0td4mk4md686c0sw0000gn/T/ipykernel_4138/701418470.py:11: RuntimeWarning: Channel names are not unique, found duplicates for: {'-', 'T8-P8'}. Applying running numbers for duplicates.\n",
      "  raw_list = [mne.io.read_raw_edf(f, preload=True) for f in sorted(edf_files)]\n",
      "/var/folders/_g/ppwl61ys0td4mk4md686c0sw0000gn/T/ipykernel_4138/701418470.py:11: RuntimeWarning: Scaling factor is not defined in following channels:\n",
      "--0, --1, --2, --3, --4\n",
      "  raw_list = [mne.io.read_raw_edf(f, preload=True) for f in sorted(edf_files)]\n"
     ]
    },
    {
     "name": "stdout",
     "output_type": "stream",
     "text": [
      "Extracting EDF parameters from /Users/marissafluharty/Library/CloudStorage/OneDrive-Umich/Univeristy of Michigan Graduate 2024-2026/Winter 2025/EECS 553/Final Project/edf_files/chb21_19.edf...\n",
      "EDF file detected\n",
      "Setting channel info structure...\n",
      "Creating raw.info structure...\n",
      "Reading 0 ... 921599  =      0.000 ...  3599.996 secs...\n",
      "Extracting EDF parameters from /Users/marissafluharty/Library/CloudStorage/OneDrive-Umich/Univeristy of Michigan Graduate 2024-2026/Winter 2025/EECS 553/Final Project/edf_files/chb21_20.edf...\n",
      "EDF file detected\n",
      "Setting channel info structure...\n",
      "Creating raw.info structure...\n",
      "Reading 0 ... 765439  =      0.000 ...  2989.996 secs...\n",
      "Extracting EDF parameters from /Users/marissafluharty/Library/CloudStorage/OneDrive-Umich/Univeristy of Michigan Graduate 2024-2026/Winter 2025/EECS 553/Final Project/edf_files/chb21_21.edf...\n",
      "EDF file detected\n",
      "Setting channel info structure...\n",
      "Creating raw.info structure...\n",
      "Reading 0 ... 921599  =      0.000 ...  3599.996 secs...\n",
      "Extracting EDF parameters from /Users/marissafluharty/Library/CloudStorage/OneDrive-Umich/Univeristy of Michigan Graduate 2024-2026/Winter 2025/EECS 553/Final Project/edf_files/chb21_22.edf...\n",
      "EDF file detected\n",
      "Setting channel info structure...\n",
      "Creating raw.info structure...\n",
      "Reading 0 ... 921599  =      0.000 ...  3599.996 secs...\n"
     ]
    },
    {
     "name": "stderr",
     "output_type": "stream",
     "text": [
      "/var/folders/_g/ppwl61ys0td4mk4md686c0sw0000gn/T/ipykernel_4138/701418470.py:11: RuntimeWarning: Channel names are not unique, found duplicates for: {'-', 'T8-P8'}. Applying running numbers for duplicates.\n",
      "  raw_list = [mne.io.read_raw_edf(f, preload=True) for f in sorted(edf_files)]\n",
      "/var/folders/_g/ppwl61ys0td4mk4md686c0sw0000gn/T/ipykernel_4138/701418470.py:11: RuntimeWarning: Scaling factor is not defined in following channels:\n",
      "--0, --1, --2, --3, --4\n",
      "  raw_list = [mne.io.read_raw_edf(f, preload=True) for f in sorted(edf_files)]\n",
      "/var/folders/_g/ppwl61ys0td4mk4md686c0sw0000gn/T/ipykernel_4138/701418470.py:11: RuntimeWarning: Channel names are not unique, found duplicates for: {'-', 'T8-P8'}. Applying running numbers for duplicates.\n",
      "  raw_list = [mne.io.read_raw_edf(f, preload=True) for f in sorted(edf_files)]\n",
      "/var/folders/_g/ppwl61ys0td4mk4md686c0sw0000gn/T/ipykernel_4138/701418470.py:11: RuntimeWarning: Scaling factor is not defined in following channels:\n",
      "--0, --1, --2, --3, --4\n",
      "  raw_list = [mne.io.read_raw_edf(f, preload=True) for f in sorted(edf_files)]\n",
      "/var/folders/_g/ppwl61ys0td4mk4md686c0sw0000gn/T/ipykernel_4138/701418470.py:11: RuntimeWarning: Channel names are not unique, found duplicates for: {'-', 'T8-P8'}. Applying running numbers for duplicates.\n",
      "  raw_list = [mne.io.read_raw_edf(f, preload=True) for f in sorted(edf_files)]\n",
      "/var/folders/_g/ppwl61ys0td4mk4md686c0sw0000gn/T/ipykernel_4138/701418470.py:11: RuntimeWarning: Scaling factor is not defined in following channels:\n",
      "--0, --1, --2, --3, --4\n",
      "  raw_list = [mne.io.read_raw_edf(f, preload=True) for f in sorted(edf_files)]\n",
      "/var/folders/_g/ppwl61ys0td4mk4md686c0sw0000gn/T/ipykernel_4138/701418470.py:11: RuntimeWarning: Channel names are not unique, found duplicates for: {'-', 'T8-P8'}. Applying running numbers for duplicates.\n",
      "  raw_list = [mne.io.read_raw_edf(f, preload=True) for f in sorted(edf_files)]\n",
      "/var/folders/_g/ppwl61ys0td4mk4md686c0sw0000gn/T/ipykernel_4138/701418470.py:11: RuntimeWarning: Scaling factor is not defined in following channels:\n",
      "--0, --1, --2, --3, --4\n",
      "  raw_list = [mne.io.read_raw_edf(f, preload=True) for f in sorted(edf_files)]\n"
     ]
    },
    {
     "name": "stdout",
     "output_type": "stream",
     "text": [
      "Extracting EDF parameters from /Users/marissafluharty/Library/CloudStorage/OneDrive-Umich/Univeristy of Michigan Graduate 2024-2026/Winter 2025/EECS 553/Final Project/edf_files/chb21_23.edf...\n",
      "EDF file detected\n",
      "Setting channel info structure...\n",
      "Creating raw.info structure...\n",
      "Reading 0 ... 921599  =      0.000 ...  3599.996 secs...\n",
      "Extracting EDF parameters from /Users/marissafluharty/Library/CloudStorage/OneDrive-Umich/Univeristy of Michigan Graduate 2024-2026/Winter 2025/EECS 553/Final Project/edf_files/chb21_24.edf...\n",
      "EDF file detected\n",
      "Setting channel info structure...\n",
      "Creating raw.info structure...\n",
      "Reading 0 ... 921599  =      0.000 ...  3599.996 secs...\n",
      "Extracting EDF parameters from /Users/marissafluharty/Library/CloudStorage/OneDrive-Umich/Univeristy of Michigan Graduate 2024-2026/Winter 2025/EECS 553/Final Project/edf_files/chb21_25.edf...\n",
      "EDF file detected\n",
      "Setting channel info structure...\n",
      "Creating raw.info structure...\n",
      "Reading 0 ... 921599  =      0.000 ...  3599.996 secs...\n"
     ]
    },
    {
     "name": "stderr",
     "output_type": "stream",
     "text": [
      "/var/folders/_g/ppwl61ys0td4mk4md686c0sw0000gn/T/ipykernel_4138/701418470.py:11: RuntimeWarning: Channel names are not unique, found duplicates for: {'-', 'T8-P8'}. Applying running numbers for duplicates.\n",
      "  raw_list = [mne.io.read_raw_edf(f, preload=True) for f in sorted(edf_files)]\n",
      "/var/folders/_g/ppwl61ys0td4mk4md686c0sw0000gn/T/ipykernel_4138/701418470.py:11: RuntimeWarning: Scaling factor is not defined in following channels:\n",
      "--0, --1, --2, --3, --4\n",
      "  raw_list = [mne.io.read_raw_edf(f, preload=True) for f in sorted(edf_files)]\n",
      "/var/folders/_g/ppwl61ys0td4mk4md686c0sw0000gn/T/ipykernel_4138/701418470.py:11: RuntimeWarning: Channel names are not unique, found duplicates for: {'-', 'T8-P8'}. Applying running numbers for duplicates.\n",
      "  raw_list = [mne.io.read_raw_edf(f, preload=True) for f in sorted(edf_files)]\n",
      "/var/folders/_g/ppwl61ys0td4mk4md686c0sw0000gn/T/ipykernel_4138/701418470.py:11: RuntimeWarning: Scaling factor is not defined in following channels:\n",
      "--0, --1, --2, --3, --4\n",
      "  raw_list = [mne.io.read_raw_edf(f, preload=True) for f in sorted(edf_files)]\n",
      "/var/folders/_g/ppwl61ys0td4mk4md686c0sw0000gn/T/ipykernel_4138/701418470.py:11: RuntimeWarning: Channel names are not unique, found duplicates for: {'-', 'T8-P8'}. Applying running numbers for duplicates.\n",
      "  raw_list = [mne.io.read_raw_edf(f, preload=True) for f in sorted(edf_files)]\n",
      "/var/folders/_g/ppwl61ys0td4mk4md686c0sw0000gn/T/ipykernel_4138/701418470.py:11: RuntimeWarning: Scaling factor is not defined in following channels:\n",
      "--0, --1, --2, --3, --4\n",
      "  raw_list = [mne.io.read_raw_edf(f, preload=True) for f in sorted(edf_files)]\n"
     ]
    },
    {
     "name": "stdout",
     "output_type": "stream",
     "text": [
      "Extracting EDF parameters from /Users/marissafluharty/Library/CloudStorage/OneDrive-Umich/Univeristy of Michigan Graduate 2024-2026/Winter 2025/EECS 553/Final Project/edf_files/chb21_26.edf...\n",
      "EDF file detected\n",
      "Setting channel info structure...\n",
      "Creating raw.info structure...\n",
      "Reading 0 ... 921599  =      0.000 ...  3599.996 secs...\n",
      "Extracting EDF parameters from /Users/marissafluharty/Library/CloudStorage/OneDrive-Umich/Univeristy of Michigan Graduate 2024-2026/Winter 2025/EECS 553/Final Project/edf_files/chb21_27.edf...\n",
      "EDF file detected\n",
      "Setting channel info structure...\n",
      "Creating raw.info structure...\n",
      "Reading 0 ... 921599  =      0.000 ...  3599.996 secs...\n",
      "Extracting EDF parameters from /Users/marissafluharty/Library/CloudStorage/OneDrive-Umich/Univeristy of Michigan Graduate 2024-2026/Winter 2025/EECS 553/Final Project/edf_files/chb21_28.edf...\n",
      "EDF file detected\n",
      "Setting channel info structure...\n",
      "Creating raw.info structure...\n",
      "Reading 0 ... 921599  =      0.000 ...  3599.996 secs...\n"
     ]
    },
    {
     "name": "stderr",
     "output_type": "stream",
     "text": [
      "/var/folders/_g/ppwl61ys0td4mk4md686c0sw0000gn/T/ipykernel_4138/701418470.py:11: RuntimeWarning: Channel names are not unique, found duplicates for: {'-', 'T8-P8'}. Applying running numbers for duplicates.\n",
      "  raw_list = [mne.io.read_raw_edf(f, preload=True) for f in sorted(edf_files)]\n",
      "/var/folders/_g/ppwl61ys0td4mk4md686c0sw0000gn/T/ipykernel_4138/701418470.py:11: RuntimeWarning: Scaling factor is not defined in following channels:\n",
      "--0, --1, --2, --3, --4\n",
      "  raw_list = [mne.io.read_raw_edf(f, preload=True) for f in sorted(edf_files)]\n",
      "/var/folders/_g/ppwl61ys0td4mk4md686c0sw0000gn/T/ipykernel_4138/701418470.py:11: RuntimeWarning: Channel names are not unique, found duplicates for: {'-', 'T8-P8'}. Applying running numbers for duplicates.\n",
      "  raw_list = [mne.io.read_raw_edf(f, preload=True) for f in sorted(edf_files)]\n",
      "/var/folders/_g/ppwl61ys0td4mk4md686c0sw0000gn/T/ipykernel_4138/701418470.py:11: RuntimeWarning: Scaling factor is not defined in following channels:\n",
      "--0, --1, --2, --3, --4\n",
      "  raw_list = [mne.io.read_raw_edf(f, preload=True) for f in sorted(edf_files)]\n",
      "/var/folders/_g/ppwl61ys0td4mk4md686c0sw0000gn/T/ipykernel_4138/701418470.py:11: RuntimeWarning: Channel names are not unique, found duplicates for: {'-', 'T8-P8'}. Applying running numbers for duplicates.\n",
      "  raw_list = [mne.io.read_raw_edf(f, preload=True) for f in sorted(edf_files)]\n",
      "/var/folders/_g/ppwl61ys0td4mk4md686c0sw0000gn/T/ipykernel_4138/701418470.py:11: RuntimeWarning: Scaling factor is not defined in following channels:\n",
      "--0, --1, --2, --3, --4\n",
      "  raw_list = [mne.io.read_raw_edf(f, preload=True) for f in sorted(edf_files)]\n"
     ]
    },
    {
     "name": "stdout",
     "output_type": "stream",
     "text": [
      "Extracting EDF parameters from /Users/marissafluharty/Library/CloudStorage/OneDrive-Umich/Univeristy of Michigan Graduate 2024-2026/Winter 2025/EECS 553/Final Project/edf_files/chb21_29.edf...\n",
      "EDF file detected\n",
      "Setting channel info structure...\n",
      "Creating raw.info structure...\n",
      "Reading 0 ... 921599  =      0.000 ...  3599.996 secs...\n",
      "Extracting EDF parameters from /Users/marissafluharty/Library/CloudStorage/OneDrive-Umich/Univeristy of Michigan Graduate 2024-2026/Winter 2025/EECS 553/Final Project/edf_files/chb21_30.edf...\n",
      "EDF file detected\n",
      "Setting channel info structure...\n",
      "Creating raw.info structure...\n",
      "Reading 0 ... 921599  =      0.000 ...  3599.996 secs...\n",
      "Extracting EDF parameters from /Users/marissafluharty/Library/CloudStorage/OneDrive-Umich/Univeristy of Michigan Graduate 2024-2026/Winter 2025/EECS 553/Final Project/edf_files/chb21_31.edf...\n",
      "EDF file detected\n",
      "Setting channel info structure...\n",
      "Creating raw.info structure...\n",
      "Reading 0 ... 921599  =      0.000 ...  3599.996 secs...\n"
     ]
    },
    {
     "name": "stderr",
     "output_type": "stream",
     "text": [
      "/var/folders/_g/ppwl61ys0td4mk4md686c0sw0000gn/T/ipykernel_4138/701418470.py:11: RuntimeWarning: Channel names are not unique, found duplicates for: {'-', 'T8-P8'}. Applying running numbers for duplicates.\n",
      "  raw_list = [mne.io.read_raw_edf(f, preload=True) for f in sorted(edf_files)]\n",
      "/var/folders/_g/ppwl61ys0td4mk4md686c0sw0000gn/T/ipykernel_4138/701418470.py:11: RuntimeWarning: Scaling factor is not defined in following channels:\n",
      "--0, --1, --2, --3, --4\n",
      "  raw_list = [mne.io.read_raw_edf(f, preload=True) for f in sorted(edf_files)]\n",
      "/var/folders/_g/ppwl61ys0td4mk4md686c0sw0000gn/T/ipykernel_4138/701418470.py:11: RuntimeWarning: Channel names are not unique, found duplicates for: {'-', 'T8-P8'}. Applying running numbers for duplicates.\n",
      "  raw_list = [mne.io.read_raw_edf(f, preload=True) for f in sorted(edf_files)]\n",
      "/var/folders/_g/ppwl61ys0td4mk4md686c0sw0000gn/T/ipykernel_4138/701418470.py:11: RuntimeWarning: Scaling factor is not defined in following channels:\n",
      "--0, --1, --2, --3, --4\n",
      "  raw_list = [mne.io.read_raw_edf(f, preload=True) for f in sorted(edf_files)]\n",
      "/var/folders/_g/ppwl61ys0td4mk4md686c0sw0000gn/T/ipykernel_4138/701418470.py:11: RuntimeWarning: Channel names are not unique, found duplicates for: {'-', 'T8-P8'}. Applying running numbers for duplicates.\n",
      "  raw_list = [mne.io.read_raw_edf(f, preload=True) for f in sorted(edf_files)]\n",
      "/var/folders/_g/ppwl61ys0td4mk4md686c0sw0000gn/T/ipykernel_4138/701418470.py:11: RuntimeWarning: Scaling factor is not defined in following channels:\n",
      "--0, --1, --2, --3, --4\n",
      "  raw_list = [mne.io.read_raw_edf(f, preload=True) for f in sorted(edf_files)]\n"
     ]
    },
    {
     "name": "stdout",
     "output_type": "stream",
     "text": [
      "Extracting EDF parameters from /Users/marissafluharty/Library/CloudStorage/OneDrive-Umich/Univeristy of Michigan Graduate 2024-2026/Winter 2025/EECS 553/Final Project/edf_files/chb21_32.edf...\n",
      "EDF file detected\n",
      "Setting channel info structure...\n",
      "Creating raw.info structure...\n",
      "Reading 0 ... 921599  =      0.000 ...  3599.996 secs...\n",
      "Extracting EDF parameters from /Users/marissafluharty/Library/CloudStorage/OneDrive-Umich/Univeristy of Michigan Graduate 2024-2026/Winter 2025/EECS 553/Final Project/edf_files/chb21_33.edf...\n",
      "EDF file detected\n",
      "Setting channel info structure...\n",
      "Creating raw.info structure...\n",
      "Reading 0 ... 921599  =      0.000 ...  3599.996 secs...\n"
     ]
    },
    {
     "name": "stderr",
     "output_type": "stream",
     "text": [
      "/var/folders/_g/ppwl61ys0td4mk4md686c0sw0000gn/T/ipykernel_4138/701418470.py:11: RuntimeWarning: Channel names are not unique, found duplicates for: {'-', 'T8-P8'}. Applying running numbers for duplicates.\n",
      "  raw_list = [mne.io.read_raw_edf(f, preload=True) for f in sorted(edf_files)]\n",
      "/var/folders/_g/ppwl61ys0td4mk4md686c0sw0000gn/T/ipykernel_4138/701418470.py:11: RuntimeWarning: Scaling factor is not defined in following channels:\n",
      "--0, --1, --2, --3, --4\n",
      "  raw_list = [mne.io.read_raw_edf(f, preload=True) for f in sorted(edf_files)]\n",
      "/var/folders/_g/ppwl61ys0td4mk4md686c0sw0000gn/T/ipykernel_4138/701418470.py:11: RuntimeWarning: Channel names are not unique, found duplicates for: {'-', 'T8-P8'}. Applying running numbers for duplicates.\n",
      "  raw_list = [mne.io.read_raw_edf(f, preload=True) for f in sorted(edf_files)]\n",
      "/var/folders/_g/ppwl61ys0td4mk4md686c0sw0000gn/T/ipykernel_4138/701418470.py:11: RuntimeWarning: Scaling factor is not defined in following channels:\n",
      "--0, --1, --2, --3, --4\n",
      "  raw_list = [mne.io.read_raw_edf(f, preload=True) for f in sorted(edf_files)]\n"
     ]
    },
    {
     "name": "stdout",
     "output_type": "stream",
     "text": [
      "<RawEDF | chb21_01.edf, 28 x 30256384 (118189.0 s), ~6.31 GiB, data loaded>\n"
     ]
    }
   ],
   "source": [
    "import mne\n",
    "import glob\n",
    "import re\n",
    "# Folder name where your .edf files live\n",
    "edf_folder = 'edf_files/'\n",
    "\n",
    "# Get all .edf file paths\n",
    "edf_files = glob.glob(edf_folder + '*.edf')\n",
    "\n",
    "# Print to make sure files were found\n",
    "print(\"Found EDF files:\", edf_files)\n",
    "\n",
    "# Read and store Raw objects\n",
    "raw_list = [mne.io.read_raw_edf(f, preload=True) for f in sorted(edf_files)]\n",
    "\n",
    "# Concatenate all Raw objects if any were found\n",
    "if raw_list:\n",
    "    raw_combined = mne.concatenate_raws(raw_list)\n",
    "    print(raw_combined)\n",
    "else:\n",
    "    print(\"No EDF files found in folder.\")"
   ]
  },
  {
   "cell_type": "code",
   "execution_count": 6,
   "id": "2f4c7a11-1f02-4e6c-8966-93e7a7c5497e",
   "metadata": {},
   "outputs": [
    {
     "name": "stdout",
     "output_type": "stream",
     "text": [
      "Extracted 7878 segments of shape (28, 7680)\n"
     ]
    }
   ],
   "source": [
    "import numpy as np\n",
    "\n",
    "# Sampling frequency\n",
    "fs = 256  # Hz\n",
    "segment_length_sec = 30\n",
    "step_size_sec = 15\n",
    "\n",
    "segment_samples = segment_length_sec * fs\n",
    "step_samples = step_size_sec * fs\n",
    "\n",
    "# Pick one channel or use all channels\n",
    "data, times = raw_combined.get_data(return_times=True)  # shape: (n_channels, n_samples)\n",
    "n_channels, n_samples = data.shape\n",
    "\n",
    "# Apply sliding window\n",
    "segments = []\n",
    "segment_times = []\n",
    "\n",
    "for start in range(0, n_samples - segment_samples + 1, step_samples):\n",
    "    end = start + segment_samples\n",
    "    segment = data[:, start:end]  # shape: (n_channels, segment_samples)\n",
    "    segments.append(segment)\n",
    "    segment_times.append(times[start])\n",
    "\n",
    "# Now segments is a list of arrays, each of shape (n_channels, segment_samples)\n",
    "print(f\"Extracted {len(segments)} segments of shape {segments[0].shape}\")"
   ]
  },
  {
   "cell_type": "code",
   "execution_count": 8,
   "id": "b4dbabf6-838a-4ec4-8113-3e0ef9c96462",
   "metadata": {},
   "outputs": [
    {
     "name": "stdout",
     "output_type": "stream",
     "text": [
      "Converted to 7878 spectrogram tensors of shape (119, 65, 28)\n"
     ]
    }
   ],
   "source": [
    "from scipy.signal import spectrogram\n",
    "\n",
    "nperseg = 128\n",
    "noverlap = 64\n",
    "\n",
    "spectrograms = []\n",
    "\n",
    "for segment in segments:\n",
    "    channel_specs = []\n",
    "\n",
    "    for ch in range(segment.shape[0]):  # iterate over channels\n",
    "        f, t, Sxx = spectrogram(segment[ch], fs=256, nperseg=nperseg, noverlap=noverlap)\n",
    "        Sxx = Sxx.T  # shape becomes (T, F)\n",
    "        channel_specs.append(Sxx)\n",
    "\n",
    "    # Stack into shape (T, F, K)\n",
    "    spec_tensor = np.stack(channel_specs, axis=-1)\n",
    "    spectrograms.append(spec_tensor)\n",
    "\n",
    "print(f\"Converted to {len(spectrograms)} spectrogram tensors of shape {spectrograms[0].shape}\")"
   ]
  },
  {
   "cell_type": "code",
   "execution_count": 10,
   "id": "3fc9468a-c1a4-45b8-98d2-0a8ad3406505",
   "metadata": {},
   "outputs": [],
   "source": [
    "summary_path = \"chb21-summary.txt\"\n",
    "\n",
    "with open(summary_path, 'r') as f:\n",
    "        summary_text = f.read()"
   ]
  },
  {
   "cell_type": "code",
   "execution_count": 12,
   "id": "7e059b01-1e6b-4a39-a844-7185291f6bce",
   "metadata": {},
   "outputs": [
    {
     "data": {
      "text/plain": [
       "[(66088, 66144), (71027, 71077), (74003, 74084), (78153, 78165)]"
      ]
     },
     "execution_count": 12,
     "metadata": {},
     "output_type": "execute_result"
    }
   ],
   "source": [
    "seizure_start_times = re.findall(r\"Seizure 1 Start Time: (\\d+)\", summary_text)\n",
    "seizure_end_times = re.findall(r\"Seizure 1 End Time: (\\d+)\", summary_text)\n",
    "seizure_true_or_false_by_hour = re.findall(r\"Number of Seizures in File: (\\d+)\", summary_text)\n",
    "indices_of_seizures = [i for i, x in enumerate(seizure_true_or_false_by_hour) if x == '1']\n",
    "\n",
    "\n",
    "seizure_start_end_times = []\n",
    "\n",
    "for i in range(len(seizure_start_times)):\n",
    "    start = int(seizure_start_times[i]) + (3600 * indices_of_seizures[i])\n",
    "    end = int(seizure_end_times[i]) + (3600 * indices_of_seizures[i])\n",
    "    seizure_start_end_times.append((start, end))\n",
    "\n",
    "## Segment_times is the start time for each segment\n",
    "# segments contains np.array of signal data -> 1398 segments (28 channels, 7680 samples per segment)\n",
    "\n",
    "segment_start_end_times = []\n",
    "\n",
    "for i in segment_times:\n",
    "    start_time = i\n",
    "    end_time = i + 30\n",
    "    segment_start_end_times.append((start_time, end_time))\n",
    "\n",
    "seizure_start_end_times"
   ]
  },
  {
   "cell_type": "code",
   "execution_count": 14,
   "id": "b67dac74-251b-4e02-95ea-0f2c8b70d5e3",
   "metadata": {},
   "outputs": [
    {
     "data": {
      "text/html": [
       "<div>\n",
       "<style scoped>\n",
       "    .dataframe tbody tr th:only-of-type {\n",
       "        vertical-align: middle;\n",
       "    }\n",
       "\n",
       "    .dataframe tbody tr th {\n",
       "        vertical-align: top;\n",
       "    }\n",
       "\n",
       "    .dataframe thead th {\n",
       "        text-align: right;\n",
       "    }\n",
       "</style>\n",
       "<table border=\"1\" class=\"dataframe\">\n",
       "  <thead>\n",
       "    <tr style=\"text-align: right;\">\n",
       "      <th></th>\n",
       "      <th>start_time</th>\n",
       "      <th>end_time</th>\n",
       "      <th>label</th>\n",
       "    </tr>\n",
       "  </thead>\n",
       "  <tbody>\n",
       "    <tr>\n",
       "      <th>0</th>\n",
       "      <td>0.0</td>\n",
       "      <td>30.0</td>\n",
       "      <td>interictal</td>\n",
       "    </tr>\n",
       "    <tr>\n",
       "      <th>1</th>\n",
       "      <td>15.0</td>\n",
       "      <td>45.0</td>\n",
       "      <td>interictal</td>\n",
       "    </tr>\n",
       "    <tr>\n",
       "      <th>2</th>\n",
       "      <td>30.0</td>\n",
       "      <td>60.0</td>\n",
       "      <td>interictal</td>\n",
       "    </tr>\n",
       "    <tr>\n",
       "      <th>3</th>\n",
       "      <td>45.0</td>\n",
       "      <td>75.0</td>\n",
       "      <td>interictal</td>\n",
       "    </tr>\n",
       "    <tr>\n",
       "      <th>4</th>\n",
       "      <td>60.0</td>\n",
       "      <td>90.0</td>\n",
       "      <td>interictal</td>\n",
       "    </tr>\n",
       "    <tr>\n",
       "      <th>...</th>\n",
       "      <td>...</td>\n",
       "      <td>...</td>\n",
       "      <td>...</td>\n",
       "    </tr>\n",
       "    <tr>\n",
       "      <th>7873</th>\n",
       "      <td>118095.0</td>\n",
       "      <td>118125.0</td>\n",
       "      <td>interictal</td>\n",
       "    </tr>\n",
       "    <tr>\n",
       "      <th>7874</th>\n",
       "      <td>118110.0</td>\n",
       "      <td>118140.0</td>\n",
       "      <td>interictal</td>\n",
       "    </tr>\n",
       "    <tr>\n",
       "      <th>7875</th>\n",
       "      <td>118125.0</td>\n",
       "      <td>118155.0</td>\n",
       "      <td>interictal</td>\n",
       "    </tr>\n",
       "    <tr>\n",
       "      <th>7876</th>\n",
       "      <td>118140.0</td>\n",
       "      <td>118170.0</td>\n",
       "      <td>interictal</td>\n",
       "    </tr>\n",
       "    <tr>\n",
       "      <th>7877</th>\n",
       "      <td>118155.0</td>\n",
       "      <td>118185.0</td>\n",
       "      <td>interictal</td>\n",
       "    </tr>\n",
       "  </tbody>\n",
       "</table>\n",
       "<p>7878 rows × 3 columns</p>\n",
       "</div>"
      ],
      "text/plain": [
       "      start_time  end_time       label\n",
       "0            0.0      30.0  interictal\n",
       "1           15.0      45.0  interictal\n",
       "2           30.0      60.0  interictal\n",
       "3           45.0      75.0  interictal\n",
       "4           60.0      90.0  interictal\n",
       "...          ...       ...         ...\n",
       "7873    118095.0  118125.0  interictal\n",
       "7874    118110.0  118140.0  interictal\n",
       "7875    118125.0  118155.0  interictal\n",
       "7876    118140.0  118170.0  interictal\n",
       "7877    118155.0  118185.0  interictal\n",
       "\n",
       "[7878 rows x 3 columns]"
      ]
     },
     "execution_count": 14,
     "metadata": {},
     "output_type": "execute_result"
    }
   ],
   "source": [
    "import pandas as pd\n",
    "\n",
    "# Define your seizure times as a list of tuples (start_time, end_time)\n",
    "# Example seizure data (replace this with actual seizure timings)\n",
    "seizure_times = seizure_start_end_times\n",
    "\n",
    "def label_segment(start_time, end_time, seizure_times, preictal_window=(600, 4200), buffer=120):\n",
    "    for seizure_start, seizure_end in seizure_times:\n",
    "        # Always check for actual seizure first\n",
    "        if end_time > seizure_start and start_time < seizure_end:\n",
    "            return 'seizure'\n",
    "        \n",
    "    for seizure_start, _ in seizure_times:\n",
    "        preictal_start = seizure_start - preictal_window[1]\n",
    "        preictal_end = seizure_start - preictal_window[0] - buffer\n",
    "        buffer_start = preictal_end\n",
    "        buffer_end = seizure_start\n",
    "        \n",
    "        # Then check if it falls in the buffer zone\n",
    "        if end_time > buffer_start and start_time < buffer_end:\n",
    "            return None\n",
    "        \n",
    "        # Then check for preictal range\n",
    "        if end_time > preictal_start and start_time < preictal_end:\n",
    "            return 'preictal'\n",
    "\n",
    "    return 'interictal'\n",
    "\n",
    "# List of segments with start and end times (replace with your actual segment_times list)\n",
    "segment_times = segment_start_end_times\n",
    "\n",
    "# Label each segment\n",
    "labels = [label_segment(start, end, seizure_times) for start, end in segment_times]\n",
    "\n",
    "# Create DataFrame\n",
    "df = pd.DataFrame({\n",
    "    'start_time': [start for start, _ in segment_times],\n",
    "    'end_time': [end for _, end in segment_times],\n",
    "    'label': labels\n",
    "})\n",
    "\n",
    "# Display the DataFrame\n",
    "df"
   ]
  },
  {
   "cell_type": "code",
   "execution_count": 16,
   "id": "5283cc3c-73aa-4cea-810b-6835442437e9",
   "metadata": {},
   "outputs": [],
   "source": [
    "df['spectrogram'] = spectrograms"
   ]
  },
  {
   "cell_type": "code",
   "execution_count": 18,
   "id": "6591aecf-9e18-4c82-b57e-4dfd6d6448d1",
   "metadata": {},
   "outputs": [
    {
     "name": "stdout",
     "output_type": "stream",
     "text": [
      "Found 192 segments with label None.\n"
     ]
    },
    {
     "data": {
      "text/html": [
       "<div>\n",
       "<style scoped>\n",
       "    .dataframe tbody tr th:only-of-type {\n",
       "        vertical-align: middle;\n",
       "    }\n",
       "\n",
       "    .dataframe tbody tr th {\n",
       "        vertical-align: top;\n",
       "    }\n",
       "\n",
       "    .dataframe thead th {\n",
       "        text-align: right;\n",
       "    }\n",
       "</style>\n",
       "<table border=\"1\" class=\"dataframe\">\n",
       "  <thead>\n",
       "    <tr style=\"text-align: right;\">\n",
       "      <th></th>\n",
       "      <th>start_time</th>\n",
       "      <th>end_time</th>\n",
       "      <th>label</th>\n",
       "      <th>spectrogram</th>\n",
       "    </tr>\n",
       "  </thead>\n",
       "  <tbody>\n",
       "    <tr>\n",
       "      <th>4356</th>\n",
       "      <td>65340.0</td>\n",
       "      <td>65370.0</td>\n",
       "      <td>None</td>\n",
       "      <td>[[[7.791237045633231e-13, 1.2353365644090895e-...</td>\n",
       "    </tr>\n",
       "    <tr>\n",
       "      <th>4357</th>\n",
       "      <td>65355.0</td>\n",
       "      <td>65385.0</td>\n",
       "      <td>None</td>\n",
       "      <td>[[[9.451210501268011e-12, 2.0939464123938525e-...</td>\n",
       "    </tr>\n",
       "    <tr>\n",
       "      <th>4358</th>\n",
       "      <td>65370.0</td>\n",
       "      <td>65400.0</td>\n",
       "      <td>None</td>\n",
       "      <td>[[[2.1072737695860791e-13, 4.7112960585044785e...</td>\n",
       "    </tr>\n",
       "    <tr>\n",
       "      <th>4359</th>\n",
       "      <td>65385.0</td>\n",
       "      <td>65415.0</td>\n",
       "      <td>None</td>\n",
       "      <td>[[[6.393770816990923e-12, 2.47715911468166e-12...</td>\n",
       "    </tr>\n",
       "    <tr>\n",
       "      <th>4360</th>\n",
       "      <td>65400.0</td>\n",
       "      <td>65430.0</td>\n",
       "      <td>None</td>\n",
       "      <td>[[[2.159552244714136e-13, 5.778124917436987e-1...</td>\n",
       "    </tr>\n",
       "  </tbody>\n",
       "</table>\n",
       "</div>"
      ],
      "text/plain": [
       "      start_time  end_time label  \\\n",
       "4356     65340.0   65370.0  None   \n",
       "4357     65355.0   65385.0  None   \n",
       "4358     65370.0   65400.0  None   \n",
       "4359     65385.0   65415.0  None   \n",
       "4360     65400.0   65430.0  None   \n",
       "\n",
       "                                            spectrogram  \n",
       "4356  [[[7.791237045633231e-13, 1.2353365644090895e-...  \n",
       "4357  [[[9.451210501268011e-12, 2.0939464123938525e-...  \n",
       "4358  [[[2.1072737695860791e-13, 4.7112960585044785e...  \n",
       "4359  [[[6.393770816990923e-12, 2.47715911468166e-12...  \n",
       "4360  [[[2.159552244714136e-13, 5.778124917436987e-1...  "
      ]
     },
     "metadata": {},
     "output_type": "display_data"
    }
   ],
   "source": [
    "# Check for any rows with label None\n",
    "none_label_rows = df[df['label'].isna() | (df['label'] == None)]\n",
    "\n",
    "# Display how many there are and a few examples\n",
    "print(f\"Found {len(none_label_rows)} segments with label None.\")\n",
    "display(none_label_rows.head())"
   ]
  },
  {
   "cell_type": "code",
   "execution_count": 20,
   "id": "311c904a-4cb9-48e0-a7a4-20f0314c7da5",
   "metadata": {},
   "outputs": [
    {
     "name": "stdout",
     "output_type": "stream",
     "text": [
      "interictal    6835\n",
      "preictal       831\n",
      "seizure         20\n",
      "Name: label, dtype: int64\n"
     ]
    }
   ],
   "source": [
    "df = df[df['label'].notna() & (df['label'] != 'None')]\n",
    "print(df['label'].value_counts(dropna=False))"
   ]
  },
  {
   "cell_type": "code",
   "execution_count": 22,
   "id": "4ed8158a-9694-4ef0-b950-02c8c42ce5f0",
   "metadata": {},
   "outputs": [
    {
     "name": "stdout",
     "output_type": "stream",
     "text": [
      "Dropped 0 rows labeled 'seizure'\n"
     ]
    }
   ],
   "source": [
    "# Drop rows where the label is 'seizure'\n",
    "df = df[df['label'] != 'seizure'].reset_index(drop=True)\n",
    "\n",
    "# Optional: print how many rows were dropped\n",
    "num_dropped = len(df) - len(df)\n",
    "print(f\"Dropped {num_dropped} rows labeled 'seizure'\")"
   ]
  },
  {
   "cell_type": "code",
   "execution_count": 24,
   "id": "5e1449da-c7bc-4a5b-8c8c-78185135a701",
   "metadata": {},
   "outputs": [],
   "source": [
    "import pickle\n",
    "\n",
    "# Save the DataFrame to a pickle file\n",
    "df.to_pickle('preprocessed_data.pkl')"
   ]
  },
  {
   "cell_type": "code",
   "execution_count": null,
   "id": "a0742abe-87f7-4044-bd46-356dd1ced1f2",
   "metadata": {},
   "outputs": [],
   "source": []
  }
 ],
 "metadata": {
  "kernelspec": {
   "display_name": "Python 3 (ipykernel)",
   "language": "python",
   "name": "python3"
  },
  "language_info": {
   "codemirror_mode": {
    "name": "ipython",
    "version": 3
   },
   "file_extension": ".py",
   "mimetype": "text/x-python",
   "name": "python",
   "nbconvert_exporter": "python",
   "pygments_lexer": "ipython3",
   "version": "3.12.2"
  }
 },
 "nbformat": 4,
 "nbformat_minor": 5
}
